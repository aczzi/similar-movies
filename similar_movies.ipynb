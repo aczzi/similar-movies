{
  "nbformat": 4,
  "nbformat_minor": 0,
  "metadata": {
    "colab": {
      "provenance": []
    },
    "kernelspec": {
      "name": "python3",
      "display_name": "Python 3"
    }
  },
  "cells": [
    {
      "cell_type": "code",
      "source": [
        "import pandas as pd\n",
        "import numpy as np\n",
        "from sklearn.feature_extraction.text import CountVectorizer\n",
        "from sklearn.metrics.pairwise import cosine_similarity\n",
        "import os\n",
        "import requests\n",
        "\n",
        "file_name = 'tmdb-movies.csv'\n",
        "url = f\"https://raw.githubusercontent.com/aczzi/similar-movies/refs/heads/main/{file_name}\"\n",
        "response = requests.get(url)\n",
        "\n",
        "if response.status_code == 200:\n",
        "    with open(file_name, 'wb') as file:\n",
        "        file.write(response.content)\n",
        "else:\n",
        "    raise Exception('Failed to download file')\n",
        "file_path = os.path.join(os.getcwd(), file_name)\n",
        "df = pd.read_csv(file_path)\n",
        "print(\"data is loaded\")"
      ],
      "metadata": {
        "colab": {
          "base_uri": "https://localhost:8080/"
        },
        "id": "os_81h5Y6EAV",
        "outputId": "683d9118-8919-4311-bd3d-0d7c542cdc42"
      },
      "execution_count": 25,
      "outputs": [
        {
          "output_type": "stream",
          "name": "stdout",
          "text": [
            "data is loaded\n"
          ]
        }
      ]
    },
    {
      "cell_type": "code",
      "metadata": {
        "id": "v2uLjx-nYnZT"
      },
      "source": [
        "column_keys = ['original_title','director','keywords','genres'] # vector dimentions\n",
        "\n",
        "columns = df.columns.tolist()\n",
        "#cleanning data\n",
        "for column in columns:\n",
        "  df[column]=df[column].fillna('')\n",
        "\n",
        "def combine(row):\n",
        "  # creating new column in dataframe containing\n",
        "  return \"#\".join([str(row[column]) for column in column_keys])\n",
        "\n",
        "def dataFrame():\n",
        "  # creating new column in dataframe containing\n",
        "  return pd.DataFrame(df, columns=column_keys)\n",
        "\n",
        "def movie_dataframe(index):\n",
        "  return pd.DataFrame(df[df.index==index], columns=column_keys)\n",
        "\n",
        "def get_movie_summary(index):\n",
        "  ldf = movie_dataframe(index)\n",
        "  if ldf.empty:\n",
        "    raise Exception('Movie not found')\n",
        "\n",
        "  return \" \".join([f\"{column}: {ldf[column].values[0]}\\n\" for column in column_keys])\n",
        "\n",
        "def get_index_from_title(title):\n",
        "    ldf = df['original_title'] == title\n",
        "    if ldf.empty:\n",
        "      raise Exception('Movie not found')\n",
        "    try:\n",
        "      return df[ldf].index[0]\n",
        "    except:\n",
        "      raise Exception('Movie not found')\n",
        "\n",
        "df['combined']=df.apply(combine,axis=1)\n",
        "vector=CountVectorizer()\n",
        "matrix=vector.fit_transform(df['combined'])    #method to vectorize the text data\n",
        "#print(\"vectorize\")\n",
        "#print(matrix)\n",
        "cosine=cosine_similarity(matrix)               #applying the function\n",
        "#print(\"cosine_similarity\")\n",
        "#print(cosine)"
      ],
      "execution_count": 37,
      "outputs": []
    },
    {
      "cell_type": "code",
      "source": [
        "print(\"Choose a movie title:\")\n",
        "a = input()\n",
        "\n",
        "movie_index=get_index_from_title(a)\n",
        "similar=list(enumerate(cosine[movie_index]))\n",
        "sorted_movies=sorted(similar, key=lambda x:x[1],reverse=True)  #sorting\n",
        "#Top ten movies\n",
        "print(get_movie_summary(sorted_movies[0][0]))\n",
        "print('Similar movies found:')\n",
        "for movie in sorted_movies[1:10]:\n",
        "  print(get_movie_summary(movie[0]))"
      ],
      "metadata": {
        "colab": {
          "base_uri": "https://localhost:8080/"
        },
        "id": "90fC7GiS6gkS",
        "outputId": "5d8c19b8-26f7-4bff-d77f-cdd5557fb46c"
      },
      "execution_count": 38,
      "outputs": [
        {
          "output_type": "stream",
          "name": "stdout",
          "text": [
            "Choose a movie title:\n",
            "Alien\n",
            "original_title: Alien\n",
            " director: Ridley Scott\n",
            " keywords: android|self-destruction|countdown|space marine|space suit\n",
            " genres: Horror|Action|Thriller|Science Fiction\n",
            "\n",
            "Similar movies found:\n",
            "original_title: Aliens\n",
            " director: James Cameron\n",
            " keywords: android|extraterrestrial technology|space marine|spaceman|cryogenics\n",
            " genres: Horror|Action|Thriller|Science Fiction\n",
            "\n",
            "original_title: Moonraker\n",
            " director: Lewis Gilbert\n",
            " keywords: venice|mass murder|space marine|space suit|marcus square\n",
            " genres: Action|Adventure|Thriller|Science Fiction\n",
            "\n",
            "original_title: Lifeforce\n",
            " director: Tobe Hooper\n",
            " keywords: space marine|vampire|flying saucer|comet|alien\n",
            " genres: Action|Science Fiction|Thriller|Horror|Fantasy\n",
            "\n",
            "original_title: Planet of the Apes\n",
            " director: Tim Burton\n",
            " keywords: gorilla|space marine|space suit|revolution|chimp\n",
            " genres: Thriller|Science Fiction|Action|Adventure\n",
            "\n",
            "original_title: AlienÂ³\n",
            " director: David Fincher\n",
            " keywords: prison|android|spacecraft|space marine|imprisonment\n",
            " genres: Science Fiction|Action|Horror\n",
            "\n",
            "original_title: Babylon 5: A Call to Arms\n",
            " director: Michael Vejar\n",
            " keywords: space marine|nightmare|space war|alien life-form|space\n",
            " genres: Action|Drama|Science Fiction|Adventure\n",
            "\n",
            "original_title: Dante 01\n",
            " director: Marc Caro\n",
            " keywords: prison|space suit|space|space centre\n",
            " genres: Science Fiction\n",
            "\n",
            "original_title: Jason X\n",
            " director: James Isaac\n",
            " keywords: places and planets|space marine|future|cryogenics|space\n",
            " genres: Horror|Science Fiction\n",
            "\n",
            "original_title: The Last Starfighter\n",
            " director: Nick Castle\n",
            " keywords: android|trailer park|space marine|games|alien\n",
            " genres: Adventure|Science Fiction|Action\n",
            "\n"
          ]
        }
      ]
    }
  ]
}