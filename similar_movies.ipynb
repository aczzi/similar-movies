{
  "nbformat": 4,
  "nbformat_minor": 0,
  "metadata": {
    "colab": {
      "provenance": []
    },
    "kernelspec": {
      "name": "python3",
      "display_name": "Python 3"
    }
  },
  "cells": [
    {
      "cell_type": "code",
      "source": [
        "import pandas as pd\n",
        "import numpy as np\n",
        "from sklearn.feature_extraction.text import CountVectorizer\n",
        "from sklearn.metrics.pairwise import cosine_similarity\n",
        "import os\n",
        "import requests\n",
        "\n",
        "file_name = 'tmdb-movies.csv'\n",
        "url = f\"https://raw.githubusercontent.com/aczzi/similar-movies/refs/heads/main/{file_name}\"\n",
        "response = requests.get(url)\n",
        "\n",
        "if response.status_code == 200:\n",
        "    with open(file_name, 'wb') as file:\n",
        "        file.write(response.content)\n",
        "else:\n",
        "    raise Exception('Failed to download file')\n",
        "file_path = os.path.join(os.getcwd(), file_name)\n",
        "df = pd.read_csv(file_path)\n",
        "\n",
        "for column in df.columns.tolist():\n",
        "  df[column] = df[column].fillna('')\n",
        "\n",
        "def title_lower(row):\n",
        "  return row[\"original_title\"].lower()\n",
        "\n",
        "df['title'] = df.apply(title_lower, axis=1)\n",
        "\n",
        "print(\"Data is loaded\")"
      ],
      "metadata": {
        "colab": {
          "base_uri": "https://localhost:8080/"
        },
        "id": "os_81h5Y6EAV",
        "outputId": "0df9a7f4-224e-466a-e0e1-d2b04baccb3f"
      },
      "execution_count": 62,
      "outputs": [
        {
          "output_type": "stream",
          "name": "stdout",
          "text": [
            "Data is loaded\n"
          ]
        }
      ]
    },
    {
      "cell_type": "markdown",
      "source": [],
      "metadata": {
        "id": "GN7nMJsFDkQI"
      }
    },
    {
      "cell_type": "code",
      "metadata": {
        "id": "v2uLjx-nYnZT"
      },
      "source": [
        "#cleanning data\n",
        "column_keys = ['original_title','director','keywords','genres', 'release_year'] # vector dimensions\n",
        "\n",
        "def combine(row):\n",
        "  # creating new column in dataframe containing column_keys\n",
        "  return \"#\".join([str(row[column]) for column in column_keys])\n",
        "\n",
        "def movie_dataframe(index):\n",
        "  return pd.DataFrame(df[df.index==index], columns=column_keys)\n",
        "\n",
        "def pretty_print(index):\n",
        "  ldf = movie_dataframe(index)\n",
        "  if ldf.empty:\n",
        "    raise Exception('Movie not found')\n",
        "  return \" \".join([f\"{column}: {ldf[column].values[0]}\\n\" for column in column_keys])\n",
        "\n",
        "def get_index_from_title(title):\n",
        "    ldf = df[df['title'] == title.lower()]\n",
        "    if ldf.empty:\n",
        "      raise Exception('Movie not found')\n",
        "    return ldf.index[0]\n",
        "\n",
        "df['combined'] = df.apply(combine, axis=1)\n",
        "vector = CountVectorizer()\n",
        "matrix = vector.fit_transform(df['combined'])\n",
        "# normalized combined vectorization\n",
        "# Coords\tValues\n",
        "# (0, 7900)\t1\n",
        "# (0, 16466)\t1\n",
        "# (0, 3072)\t1\n",
        "# (0, 15407)\t1\n",
        "cosine = cosine_similarity(matrix)\n",
        "#applying sklearn cosine_similarity\n",
        "# create for each item a cosinus list\n",
        "# [[1.         0.31311215 0.26666667 ... 0.         0.0860663  0.        ]]"
      ],
      "execution_count": 65,
      "outputs": []
    },
    {
      "cell_type": "code",
      "source": [
        "print(\"Choose a movie title:\")\n",
        "user_input = input()\n",
        "\n",
        "try:\n",
        "  movie_index = get_index_from_title(user_input)\n",
        "except Exception as e:\n",
        "  movie_index = None\n",
        "  print(f\"Movie not found : {e}\")\n",
        "\n",
        "print(\"\")\n",
        "\n",
        "if movie_index is not None:\n",
        "  similar=list(enumerate(cosine[movie_index]))\n",
        "  sorted_movies=sorted(similar, key=lambda x:x[1],reverse=True)[0:10]  #sorting top ten movies\n",
        "\n",
        "  print(pretty_print(sorted_movies[0][0]))\n",
        "  print('Top 10 Similar movies found:')\n",
        "  for movie in sorted_movies[1:10]:\n",
        "    print(pretty_print(movie[0]))"
      ],
      "metadata": {
        "colab": {
          "base_uri": "https://localhost:8080/"
        },
        "id": "90fC7GiS6gkS",
        "outputId": "a14ff3a8-82b3-4301-a790-d88b545f4017"
      },
      "execution_count": 73,
      "outputs": [
        {
          "output_type": "stream",
          "name": "stdout",
          "text": [
            "Choose a movie title:\n",
            "Batman\n",
            "\n",
            "original_title: Batman\n",
            " director: Tim Burton\n",
            " keywords: double life|dc comics|dual identity|chemical|crime fighter\n",
            " genres: Fantasy|Action\n",
            " release_year: 1989\n",
            "\n",
            "Top 10 Similar movies found:\n",
            "original_title: Batman Returns\n",
            " director: Tim Burton\n",
            " keywords: holiday|corruption|double life|dc comics|crime fighter\n",
            " genres: Action|Crime|Fantasy|Science Fiction|Thriller\n",
            " release_year: 1992\n",
            "\n",
            "original_title: Batman & Robin\n",
            " director: Joel Schumacher\n",
            " keywords: double life|dc comics|dual identity|crime fighter|fictional place\n",
            " genres: Action|Crime|Fantasy|Science Fiction\n",
            " release_year: 1997\n",
            "\n",
            "original_title: Batman Begins\n",
            " director: Christopher Nolan\n",
            " keywords: martial arts|dc comics|crime fighter|secret identity|undercover\n",
            " genres: Action|Crime|Drama\n",
            " release_year: 2005\n",
            "\n",
            "original_title: The Dark Knight\n",
            " director: Christopher Nolan\n",
            " keywords: dc comics|crime fighter|secret identity|scarecrow|sadism\n",
            " genres: Drama|Action|Crime|Thriller\n",
            " release_year: 2008\n",
            "\n",
            "original_title: The Dark Knight Rises\n",
            " director: Christopher Nolan\n",
            " keywords: dc comics|crime fighter|terrorist|secret identity|burglar\n",
            " genres: Action|Crime|Drama|Thriller\n",
            " release_year: 2012\n",
            "\n",
            "original_title: Batman Forever\n",
            " director: Joel Schumacher\n",
            " keywords: riddle|dc comics|rose|gotham city|superhero\n",
            " genres: Science Fiction|Fantasy|Action|Crime\n",
            " release_year: 1995\n",
            "\n",
            "original_title: Superman\n",
            " director: Richard Donner\n",
            " keywords: saving the world|journalist|dc comics|crime fighter|nuclear missile\n",
            " genres: Adventure|Fantasy|Action|Science Fiction\n",
            " release_year: 1978\n",
            "\n",
            "original_title: Batman: Mystery of the Batwoman\n",
            " director: Curt Geda|Tim Maltby\n",
            " keywords: dc comics|revenge|robin|heroine|super powers\n",
            " genres: Adventure|Fantasy|Animation|Action|Science Fiction\n",
            " release_year: 2003\n",
            "\n",
            "original_title: Kick-Ass\n",
            " director: Matthew Vaughn\n",
            " keywords: flying|confession|crime fighter|secret identity|superhero\n",
            " genres: Action|Crime\n",
            " release_year: 2010\n",
            "\n"
          ]
        }
      ]
    },
    {
      "cell_type": "code",
      "source": [],
      "metadata": {
        "id": "GKfaaFqT--O0"
      },
      "execution_count": 40,
      "outputs": []
    }
  ]
}