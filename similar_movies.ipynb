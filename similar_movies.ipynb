{
  "nbformat": 4,
  "nbformat_minor": 0,
  "metadata": {
    "colab": {
      "provenance": []
    },
    "kernelspec": {
      "name": "python3",
      "display_name": "Python 3"
    }
  },
  "cells": [
    {
      "cell_type": "code",
      "source": [
        "import pandas as pd\n",
        "import numpy as np\n",
        "from sklearn.feature_extraction.text import CountVectorizer\n",
        "from sklearn.metrics.pairwise import cosine_similarity\n",
        "import os\n",
        "import requests\n",
        "\n",
        "file_name = 'tmdb-movies.csv'\n",
        "url = f\"https://raw.githubusercontent.com/aczzi/similar-movies/refs/heads/main/{file_name}\"\n",
        "response = requests.get(url)\n",
        "\n",
        "if response.status_code == 200:\n",
        "    with open(file_name, 'wb') as file:\n",
        "        file.write(response.content)\n",
        "else:\n",
        "    raise Exception('Failed to download file')\n",
        "file_path = os.path.join(os.getcwd(), file_name)\n",
        "df = pd.read_csv(file_path)\n",
        "print(\"data is loaded\")"
      ],
      "metadata": {
        "id": "os_81h5Y6EAV",
        "outputId": "513acfaa-75a7-4392-d2b2-94fbf2b33f53",
        "colab": {
          "base_uri": "https://localhost:8080/"
        }
      },
      "execution_count": 21,
      "outputs": [
        {
          "output_type": "stream",
          "name": "stdout",
          "text": [
            "data is loaded\n"
          ]
        }
      ]
    },
    {
      "cell_type": "code",
      "metadata": {
        "id": "v2uLjx-nYnZT",
        "colab": {
          "base_uri": "https://localhost:8080/"
        },
        "outputId": "57de6bf8-85f4-4749-f07d-e90e5d6a2980"
      },
      "source": [
        "column_keys = ['original_title','director','keywords','genres'] # vector dimentions\n",
        "\n",
        "columns = df.columns.tolist()\n",
        "#cleanning data\n",
        "for column in columns:\n",
        "  df[column]=df[column].fillna('')\n",
        "\n",
        "def combine(row):\n",
        "  # creating new column in dataframe containing\n",
        "  return \"#\".join([str(row[column]) for column in column_keys])\n",
        "\n",
        "def dataFrame():\n",
        "  # creating new column in dataframe containing\n",
        "  return pd.DataFrame(df, columns=column_keys)\n",
        "\n",
        "def movie_dataframe(index):\n",
        "  return pd.DataFrame(df[df.index==index], columns=column_keys)\n",
        "\n",
        "def get_movie_summary(index):\n",
        "  return \", \".join(movie_dataframe(index).values[0])\n",
        "\n",
        "def get_index_from_title(title):\n",
        "    try:\n",
        "      return df[df['original_title'] == title].index[0]\n",
        "    except:\n",
        "      raise Exception('Movie not found')\n",
        "\n",
        "df['combined']=df.apply(combine,axis=1)\n",
        "vector=CountVectorizer()\n",
        "matrix=vector.fit_transform(df['combined'])    #method to vectorize the text data\n",
        "print(\"vectorize\")\n",
        "print(matrix[:5])\n",
        "cosine=cosine_similarity(matrix)               #applying the function\n",
        "print(\"cosine_similarity\")\n",
        "print(cosine[:5])"
      ],
      "execution_count": 24,
      "outputs": [
        {
          "output_type": "stream",
          "name": "stdout",
          "text": [
            "vectorize\n",
            "<Compressed Sparse Row sparse matrix of dtype 'int64'\n",
            "\twith 75 stored elements and shape (5, 16832)>\n",
            "  Coords\tValues\n",
            "  (0, 7900)\t1\n",
            "  (0, 16466)\t1\n",
            "  (0, 3072)\t1\n",
            "  (0, 15407)\t1\n",
            "  (0, 10054)\t1\n",
            "  (0, 4202)\t1\n",
            "  (0, 15570)\t1\n",
            "  (0, 12534)\t1\n",
            "  (0, 15810)\t1\n",
            "  (0, 7537)\t1\n",
            "  (0, 226)\t1\n",
            "  (0, 280)\t1\n",
            "  (0, 13234)\t1\n",
            "  (0, 5271)\t1\n",
            "  (0, 15071)\t1\n",
            "  (1, 226)\t1\n",
            "  (1, 280)\t1\n",
            "  (1, 13234)\t1\n",
            "  (1, 5271)\t1\n",
            "  (1, 15071)\t1\n",
            "  (1, 9122)\t1\n",
            "  (1, 9513)\t1\n",
            "  (1, 5728)\t1\n",
            "  (1, 12653)\t1\n",
            "  (1, 5909)\t1\n",
            "  :\t:\n",
            "  (3, 5271)\t1\n",
            "  (3, 14262)\t1\n",
            "  (3, 16111)\t1\n",
            "  (3, 15002)\t1\n",
            "  (3, 5500)\t1\n",
            "  (3, 1022)\t1\n",
            "  (3, 188)\t1\n",
            "  (3, 580)\t1\n",
            "  (3, 14083)\t1\n",
            "  (3, 7678)\t1\n",
            "  (3, 14077)\t1\n",
            "  (3, 10869)\t1\n",
            "  (3, 94)\t1\n",
            "  (3, 5118)\t1\n",
            "  (4, 226)\t1\n",
            "  (4, 15071)\t1\n",
            "  (4, 5720)\t1\n",
            "  (4, 7624)\t1\n",
            "  (4, 16075)\t1\n",
            "  (4, 2430)\t2\n",
            "  (4, 12089)\t1\n",
            "  (4, 14120)\t1\n",
            "  (4, 12519)\t1\n",
            "  (4, 14655)\t1\n",
            "  (4, 3487)\t1\n",
            "cosine_similarity\n",
            "[[1.         0.31311215 0.26666667 ... 0.         0.0860663  0.        ]\n",
            " [0.31311215 1.         0.37573457 ... 0.         0.08084521 0.        ]\n",
            " [0.26666667 0.37573457 1.         ... 0.         0.         0.        ]\n",
            " [0.25048972 0.23529412 0.18786729 ... 0.         0.08084521 0.06726728]\n",
            " [0.13801311 0.12964074 0.06900656 ... 0.3086067  0.08908708 0.        ]]\n"
          ]
        }
      ]
    },
    {
      "cell_type": "code",
      "source": [
        "print(\"Choose a movie title:\")\n",
        "a = input()\n",
        "\n",
        "movie_index=get_index_from_title(a)\n",
        "similar=list(enumerate(cosine[movie_index]))\n",
        "sorted_movies=sorted(similar, key=lambda x:x[1],reverse=True)  #sorting\n",
        "#Top ten movies\n",
        "print(get_movie_summary(sorted_movies[0][0]))\n",
        "for movie in sorted_movies[1:10]:\n",
        "  print(movie[1], get_movie_summary(movie[0]))"
      ],
      "metadata": {
        "colab": {
          "base_uri": "https://localhost:8080/"
        },
        "id": "90fC7GiS6gkS",
        "outputId": "13cb0c49-e16f-4987-8f4b-4e2c8571bac5"
      },
      "execution_count": null,
      "outputs": [
        {
          "output_type": "stream",
          "name": "stdout",
          "text": [
            "Choose a movie title:\n",
            "Alien\n",
            "Alien, Ridley Scott, android|self-destruction|countdown|space marine|space suit, Horror|Action|Thriller|Science Fiction\n",
            "0.5477225575051661 Aliens, James Cameron, android|extraterrestrial technology|space marine|spaceman|cryogenics, Horror|Action|Thriller|Science Fiction\n",
            "0.5407380704358751 Moonraker, Lewis Gilbert, venice|mass murder|space marine|space suit|marcus square, Action|Adventure|Thriller|Science Fiction\n",
            "0.5303300858899107 Lifeforce, Tobe Hooper, space marine|vampire|flying saucer|comet|alien, Action|Science Fiction|Thriller|Horror|Fantasy\n",
            "0.5270462766947299 Planet of the Apes, Tim Burton, gorilla|space marine|space suit|revolution|chimp, Thriller|Science Fiction|Action|Adventure\n",
            "0.5229763603684908 AlienÂ³, David Fincher, prison|android|spacecraft|space marine|imprisonment, Science Fiction|Action|Horror\n",
            "0.5084751798731268 Babylon 5: A Call to Arms, Michael Vejar, space marine|nightmare|space war|alien life-form|space, Action|Drama|Science Fiction|Adventure\n",
            "0.5000000000000001 Dante 01, Marc Caro, prison|space suit|space|space centre, Science Fiction\n",
            "0.47140452079103173 Jason X, James Isaac, places and planets|space marine|future|cryogenics|space, Horror|Science Fiction\n",
            "0.47140452079103173 The Last Starfighter, Nick Castle, android|trailer park|space marine|games|alien, Adventure|Science Fiction|Action\n"
          ]
        }
      ]
    }
  ]
}