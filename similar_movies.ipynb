{
  "nbformat": 4,
  "nbformat_minor": 0,
  "metadata": {
    "colab": {
      "provenance": []
    },
    "kernelspec": {
      "name": "python3",
      "display_name": "Python 3"
    }
  },
  "cells": [
    {
      "cell_type": "code",
      "source": [
        "import pandas as pd\n",
        "import numpy as np\n",
        "from sklearn.feature_extraction.text import CountVectorizer\n",
        "from sklearn.metrics.pairwise import cosine_similarity\n",
        "import os\n",
        "import requests\n",
        "\n",
        "file_name = 'tmdb-movies.csv'\n",
        "url = f\"https://raw.githubusercontent.com/aczzi/similar-movies/refs/heads/main/{file_name}\"\n",
        "response = requests.get(url)\n",
        "\n",
        "if response.status_code == 200:\n",
        "    with open(file_name, 'wb') as file:\n",
        "        file.write(response.content)\n",
        "else:\n",
        "    raise Exception('Failed to download file')\n",
        "file_path = os.path.join(os.getcwd(), file_name)\n",
        "df = pd.read_csv(file_path)\n",
        "print(\"Data is loaded\")"
      ],
      "metadata": {
        "colab": {
          "base_uri": "https://localhost:8080/"
        },
        "id": "os_81h5Y6EAV",
        "outputId": "6b9223df-dc65-4877-8f6f-fa4464f8de53"
      },
      "execution_count": 7,
      "outputs": [
        {
          "output_type": "stream",
          "name": "stdout",
          "text": [
            "Data is loaded\n"
          ]
        }
      ]
    },
    {
      "cell_type": "markdown",
      "source": [],
      "metadata": {
        "id": "GN7nMJsFDkQI"
      }
    },
    {
      "cell_type": "code",
      "metadata": {
        "id": "v2uLjx-nYnZT"
      },
      "source": [
        "#cleanning data\n",
        "column_keys = ['original_title','director','keywords','genres', 'release_year'] # vector dimensions\n",
        "\n",
        "for column in df.columns.tolist():\n",
        "  df[column] = df[column].fillna('')\n",
        "\n",
        "def combine(row):\n",
        "  # creating new column in dataframe containing column_keys\n",
        "  return \"#\".join([str(row[column]) for column in column_keys])\n",
        "\n",
        "def movie_dataframe(index):\n",
        "  return pd.DataFrame(df[df.index==index], columns=column_keys)\n",
        "\n",
        "def pretty_print(index):\n",
        "  ldf = movie_dataframe(index)\n",
        "  if ldf.empty:\n",
        "    raise Exception('Movie not found')\n",
        "  return \" \".join([f\"{column}: {ldf[column].values[0]}\\n\" for column in column_keys])\n",
        "\n",
        "def get_index_from_title(title):\n",
        "    ldf = df[df['original_title'] == title]\n",
        "    if ldf.empty:\n",
        "      raise Exception('Movie not found')\n",
        "    return ldf.index[0]\n",
        "\n",
        "df['combined'] = df.apply(combine, axis=1)\n",
        "vector = CountVectorizer()\n",
        "matrix = vector.fit_transform(df['combined'])\n",
        "# normalized combined vectorization\n",
        "# Coords\tValues\n",
        "# (0, 7900)\t1\n",
        "# (0, 16466)\t1\n",
        "# (0, 3072)\t1\n",
        "# (0, 15407)\t1\n",
        "cosine = cosine_similarity(matrix)\n",
        "#applying sklearn cosine_similarity\n",
        "# create for each item a cosinus list\n",
        "# [[1.         0.31311215 0.26666667 ... 0.         0.0860663  0.        ]]"
      ],
      "execution_count": 24,
      "outputs": []
    },
    {
      "cell_type": "code",
      "source": [
        "print(\"Choose a movie title:\")\n",
        "user_input = input()\n",
        "\n",
        "try:\n",
        "  movie_index = get_index_from_title(user_input)\n",
        "except Exception as e:\n",
        "  movie_index = None\n",
        "  print(f\"Movie not found : {e}\")\n",
        "\n",
        "print(\"\")\n",
        "\n",
        "if movie_index is not None:\n",
        "  similar=list(enumerate(cosine[movie_index]))\n",
        "  sorted_movies=sorted(similar, key=lambda x:x[1],reverse=True)[0:10]  #sorting top ten movies\n",
        "\n",
        "  print(pretty_print(sorted_movies[0][0]))\n",
        "  print('Top 10 Similar movies found:')\n",
        "  for movie in sorted_movies[1:10]:\n",
        "    print(pretty_print(movie[0]))"
      ],
      "metadata": {
        "colab": {
          "base_uri": "https://localhost:8080/"
        },
        "id": "90fC7GiS6gkS",
        "outputId": "4d569c94-9d18-4edd-e181-e7c955b73cea"
      },
      "execution_count": 26,
      "outputs": [
        {
          "output_type": "stream",
          "name": "stdout",
          "text": [
            "Choose a movie title:\n",
            "Alien\n",
            "\n",
            "original_title: Alien\n",
            " director: Ridley Scott\n",
            " keywords: android|self-destruction|countdown|space marine|space suit\n",
            " genres: Horror|Action|Thriller|Science Fiction\n",
            " release_year: 1979\n",
            "\n",
            "Top 10 Similar movies found:\n",
            "original_title: Moonraker\n",
            " director: Lewis Gilbert\n",
            " keywords: venice|mass murder|space marine|space suit|marcus square\n",
            " genres: Action|Adventure|Thriller|Science Fiction\n",
            " release_year: 1979\n",
            "\n",
            "original_title: Aliens\n",
            " director: James Cameron\n",
            " keywords: android|extraterrestrial technology|space marine|spaceman|cryogenics\n",
            " genres: Horror|Action|Thriller|Science Fiction\n",
            " release_year: 1986\n",
            "\n",
            "original_title: Lifeforce\n",
            " director: Tobe Hooper\n",
            " keywords: space marine|vampire|flying saucer|comet|alien\n",
            " genres: Action|Science Fiction|Thriller|Horror|Fantasy\n",
            " release_year: 1985\n",
            "\n",
            "original_title: Planet of the Apes\n",
            " director: Tim Burton\n",
            " keywords: gorilla|space marine|space suit|revolution|chimp\n",
            " genres: Thriller|Science Fiction|Action|Adventure\n",
            " release_year: 2001\n",
            "\n",
            "original_title: AlienÂ³\n",
            " director: David Fincher\n",
            " keywords: prison|android|spacecraft|space marine|imprisonment\n",
            " genres: Science Fiction|Action|Horror\n",
            " release_year: 1992\n",
            "\n",
            "original_title: Babylon 5: A Call to Arms\n",
            " director: Michael Vejar\n",
            " keywords: space marine|nightmare|space war|alien life-form|space\n",
            " genres: Action|Drama|Science Fiction|Adventure\n",
            " release_year: 1999\n",
            "\n",
            "original_title: Dante 01\n",
            " director: Marc Caro\n",
            " keywords: prison|space suit|space|space centre\n",
            " genres: Science Fiction\n",
            " release_year: 2008\n",
            "\n",
            "original_title: The Last Starfighter\n",
            " director: Nick Castle\n",
            " keywords: android|trailer park|space marine|games|alien\n",
            " genres: Adventure|Science Fiction|Action\n",
            " release_year: 1984\n",
            "\n",
            "original_title: Jason X\n",
            " director: James Isaac\n",
            " keywords: places and planets|space marine|future|cryogenics|space\n",
            " genres: Horror|Science Fiction\n",
            " release_year: 2001\n",
            "\n"
          ]
        }
      ]
    },
    {
      "cell_type": "code",
      "source": [],
      "metadata": {
        "id": "GKfaaFqT--O0"
      },
      "execution_count": null,
      "outputs": []
    }
  ]
}